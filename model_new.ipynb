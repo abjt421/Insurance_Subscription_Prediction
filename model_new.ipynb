{
 "cells": [
  {
   "cell_type": "code",
   "execution_count": 9,
   "id": "9d22e288-b7e3-4a8f-bf77-1a151d016d21",
   "metadata": {},
   "outputs": [],
   "source": [
    "import pandas as pd\n",
    "import matplotlib.pyplot as plt\n",
    "import numpy as np"
   ]
  },
  {
   "cell_type": "code",
   "execution_count": 10,
   "id": "0af1306d-15c3-4e50-a5f3-7e659c11eff0",
   "metadata": {},
   "outputs": [
    {
     "data": {
      "text/html": [
       "<div>\n",
       "<style scoped>\n",
       "    .dataframe tbody tr th:only-of-type {\n",
       "        vertical-align: middle;\n",
       "    }\n",
       "\n",
       "    .dataframe tbody tr th {\n",
       "        vertical-align: top;\n",
       "    }\n",
       "\n",
       "    .dataframe thead th {\n",
       "        text-align: right;\n",
       "    }\n",
       "</style>\n",
       "<table border=\"1\" class=\"dataframe\">\n",
       "  <thead>\n",
       "    <tr style=\"text-align: right;\">\n",
       "      <th></th>\n",
       "      <th>age</th>\n",
       "      <th>job</th>\n",
       "      <th>marital</th>\n",
       "      <th>education_qual</th>\n",
       "      <th>call_type</th>\n",
       "      <th>day</th>\n",
       "      <th>mon</th>\n",
       "      <th>dur</th>\n",
       "      <th>num_calls</th>\n",
       "      <th>prev_outcome</th>\n",
       "      <th>y</th>\n",
       "    </tr>\n",
       "  </thead>\n",
       "  <tbody>\n",
       "    <tr>\n",
       "      <th>0</th>\n",
       "      <td>58</td>\n",
       "      <td>management</td>\n",
       "      <td>married</td>\n",
       "      <td>tertiary</td>\n",
       "      <td>unknown</td>\n",
       "      <td>5</td>\n",
       "      <td>may</td>\n",
       "      <td>261</td>\n",
       "      <td>1</td>\n",
       "      <td>unknown</td>\n",
       "      <td>no</td>\n",
       "    </tr>\n",
       "    <tr>\n",
       "      <th>1</th>\n",
       "      <td>44</td>\n",
       "      <td>technician</td>\n",
       "      <td>single</td>\n",
       "      <td>secondary</td>\n",
       "      <td>unknown</td>\n",
       "      <td>5</td>\n",
       "      <td>may</td>\n",
       "      <td>151</td>\n",
       "      <td>1</td>\n",
       "      <td>unknown</td>\n",
       "      <td>no</td>\n",
       "    </tr>\n",
       "    <tr>\n",
       "      <th>2</th>\n",
       "      <td>33</td>\n",
       "      <td>entrepreneur</td>\n",
       "      <td>married</td>\n",
       "      <td>secondary</td>\n",
       "      <td>unknown</td>\n",
       "      <td>5</td>\n",
       "      <td>may</td>\n",
       "      <td>76</td>\n",
       "      <td>1</td>\n",
       "      <td>unknown</td>\n",
       "      <td>no</td>\n",
       "    </tr>\n",
       "    <tr>\n",
       "      <th>3</th>\n",
       "      <td>47</td>\n",
       "      <td>blue-collar</td>\n",
       "      <td>married</td>\n",
       "      <td>unknown</td>\n",
       "      <td>unknown</td>\n",
       "      <td>5</td>\n",
       "      <td>may</td>\n",
       "      <td>92</td>\n",
       "      <td>1</td>\n",
       "      <td>unknown</td>\n",
       "      <td>no</td>\n",
       "    </tr>\n",
       "    <tr>\n",
       "      <th>4</th>\n",
       "      <td>33</td>\n",
       "      <td>unknown</td>\n",
       "      <td>single</td>\n",
       "      <td>unknown</td>\n",
       "      <td>unknown</td>\n",
       "      <td>5</td>\n",
       "      <td>may</td>\n",
       "      <td>198</td>\n",
       "      <td>1</td>\n",
       "      <td>unknown</td>\n",
       "      <td>no</td>\n",
       "    </tr>\n",
       "    <tr>\n",
       "      <th>...</th>\n",
       "      <td>...</td>\n",
       "      <td>...</td>\n",
       "      <td>...</td>\n",
       "      <td>...</td>\n",
       "      <td>...</td>\n",
       "      <td>...</td>\n",
       "      <td>...</td>\n",
       "      <td>...</td>\n",
       "      <td>...</td>\n",
       "      <td>...</td>\n",
       "      <td>...</td>\n",
       "    </tr>\n",
       "    <tr>\n",
       "      <th>45206</th>\n",
       "      <td>51</td>\n",
       "      <td>technician</td>\n",
       "      <td>married</td>\n",
       "      <td>tertiary</td>\n",
       "      <td>cellular</td>\n",
       "      <td>17</td>\n",
       "      <td>nov</td>\n",
       "      <td>643</td>\n",
       "      <td>3</td>\n",
       "      <td>unknown</td>\n",
       "      <td>yes</td>\n",
       "    </tr>\n",
       "    <tr>\n",
       "      <th>45207</th>\n",
       "      <td>70</td>\n",
       "      <td>retired</td>\n",
       "      <td>divorced</td>\n",
       "      <td>primary</td>\n",
       "      <td>cellular</td>\n",
       "      <td>17</td>\n",
       "      <td>nov</td>\n",
       "      <td>456</td>\n",
       "      <td>2</td>\n",
       "      <td>unknown</td>\n",
       "      <td>yes</td>\n",
       "    </tr>\n",
       "    <tr>\n",
       "      <th>45208</th>\n",
       "      <td>70</td>\n",
       "      <td>retired</td>\n",
       "      <td>married</td>\n",
       "      <td>secondary</td>\n",
       "      <td>cellular</td>\n",
       "      <td>17</td>\n",
       "      <td>nov</td>\n",
       "      <td>643</td>\n",
       "      <td>5</td>\n",
       "      <td>success</td>\n",
       "      <td>yes</td>\n",
       "    </tr>\n",
       "    <tr>\n",
       "      <th>45209</th>\n",
       "      <td>57</td>\n",
       "      <td>blue-collar</td>\n",
       "      <td>married</td>\n",
       "      <td>secondary</td>\n",
       "      <td>telephone</td>\n",
       "      <td>17</td>\n",
       "      <td>nov</td>\n",
       "      <td>508</td>\n",
       "      <td>4</td>\n",
       "      <td>unknown</td>\n",
       "      <td>no</td>\n",
       "    </tr>\n",
       "    <tr>\n",
       "      <th>45210</th>\n",
       "      <td>37</td>\n",
       "      <td>entrepreneur</td>\n",
       "      <td>married</td>\n",
       "      <td>secondary</td>\n",
       "      <td>cellular</td>\n",
       "      <td>17</td>\n",
       "      <td>nov</td>\n",
       "      <td>361</td>\n",
       "      <td>2</td>\n",
       "      <td>other</td>\n",
       "      <td>no</td>\n",
       "    </tr>\n",
       "  </tbody>\n",
       "</table>\n",
       "<p>45211 rows × 11 columns</p>\n",
       "</div>"
      ],
      "text/plain": [
       "       age           job   marital education_qual  call_type  day  mon  dur  \\\n",
       "0       58    management   married       tertiary    unknown    5  may  261   \n",
       "1       44    technician    single      secondary    unknown    5  may  151   \n",
       "2       33  entrepreneur   married      secondary    unknown    5  may   76   \n",
       "3       47   blue-collar   married        unknown    unknown    5  may   92   \n",
       "4       33       unknown    single        unknown    unknown    5  may  198   \n",
       "...    ...           ...       ...            ...        ...  ...  ...  ...   \n",
       "45206   51    technician   married       tertiary   cellular   17  nov  643   \n",
       "45207   70       retired  divorced        primary   cellular   17  nov  456   \n",
       "45208   70       retired   married      secondary   cellular   17  nov  643   \n",
       "45209   57   blue-collar   married      secondary  telephone   17  nov  508   \n",
       "45210   37  entrepreneur   married      secondary   cellular   17  nov  361   \n",
       "\n",
       "       num_calls prev_outcome    y  \n",
       "0              1      unknown   no  \n",
       "1              1      unknown   no  \n",
       "2              1      unknown   no  \n",
       "3              1      unknown   no  \n",
       "4              1      unknown   no  \n",
       "...          ...          ...  ...  \n",
       "45206          3      unknown  yes  \n",
       "45207          2      unknown  yes  \n",
       "45208          5      success  yes  \n",
       "45209          4      unknown   no  \n",
       "45210          2        other   no  \n",
       "\n",
       "[45211 rows x 11 columns]"
      ]
     },
     "execution_count": 10,
     "metadata": {},
     "output_type": "execute_result"
    }
   ],
   "source": [
    "df = pd.read_csv(\"final_policy.csv\")\n",
    "df"
   ]
  },
  {
   "cell_type": "markdown",
   "id": "5cbcdec5-6619-4532-a822-0f3748765cbe",
   "metadata": {},
   "source": [
    "# Correlation Matrix"
   ]
  },
  {
   "cell_type": "code",
   "execution_count": 11,
   "id": "36edaaaa-1991-4e64-a114-8c8e766209ac",
   "metadata": {},
   "outputs": [
    {
     "data": {
      "text/plain": [
       "<Axes: >"
      ]
     },
     "execution_count": 11,
     "metadata": {},
     "output_type": "execute_result"
    },
    {
     "data": {
      "image/png": "[encoded data removed]",
      "text/plain": [
       "<Figure size 1000x600 with 2 Axes>"
      ]
     },
     "metadata": {},
     "output_type": "display_data"
    }
   ],
   "source": [
    "df.replace({'y' : { 'yes' : 1, 'no' : 0}},inplace=True)\n",
    "num_df = df[[\"age\" , \"day\" , \"dur\" , \"num_calls\" , \"y\"]]\n",
    "import seaborn as sn\n",
    "plt.figure(figsize = (10,6))\n",
    "sn.heatmap(num_df.corr(), annot=True)"
   ]
  },
  {
   "cell_type": "markdown",
   "id": "7e364e17-aa49-40c1-9f5e-c45f777929d7",
   "metadata": {},
   "source": [
    "**Observation - No features exhibit both high positive and high negative correlation; if such correlations were present (e.g., above 0.8 or below -0.8), dropping redundant features could streamline the model and mitigate multicollinearity concerns.**"
   ]
  },
  {
   "cell_type": "markdown",
   "id": "3d6cd031-e40b-4fa4-bf21-d78ad7909701",
   "metadata": {},
   "source": [
    "# One Hot Encoding"
   ]
  },
  {
   "cell_type": "code",
   "execution_count": 12,
   "id": "27e98103-81a6-4b61-9061-e867ca21ada9",
   "metadata": {},
   "outputs": [
    {
     "name": "stdout",
     "output_type": "stream",
     "text": [
      "Index(['job', 'marital', 'education_qual', 'call_type', 'mon', 'prev_outcome'], dtype='object')\n"
     ]
    }
   ],
   "source": [
    "cat_var= df.select_dtypes(include= [\"object\"]).columns\n",
    "print(cat_var)"
   ]
  },
  {
   "cell_type": "code",
   "execution_count": 13,
   "id": "4958d9fb-e45c-4ba6-b885-8d32ff59c0bf",
   "metadata": {},
   "outputs": [
    {
     "name": "stdout",
     "output_type": "stream",
     "text": [
      "job : ['management' 'technician' 'entrepreneur' 'blue-collar' 'unknown'\n",
      " 'retired' 'admin.' 'services' 'self-employed' 'unemployed' 'housemaid'\n",
      " 'student']\n",
      "\n",
      "marital : ['married' 'single' 'divorced']\n",
      "\n",
      "education_qual : ['tertiary' 'secondary' 'unknown' 'primary']\n",
      "\n",
      "call_type : ['unknown' 'cellular' 'telephone']\n",
      "\n",
      "mon : ['may' 'jun' 'jul' 'aug' 'oct' 'nov' 'dec' 'jan' 'feb' 'mar' 'apr' 'sep']\n",
      "\n",
      "prev_outcome : ['unknown' 'failure' 'other' 'success']\n",
      "\n"
     ]
    }
   ],
   "source": [
    "for i in cat_var:\n",
    "    print(i, \":\", df[i].unique())\n",
    "    print()"
   ]
  },
  {
   "cell_type": "code",
   "execution_count": 14,
   "id": "ec2e5c7a-804e-4a42-a23e-5ef10f5b907b",
   "metadata": {},
   "outputs": [],
   "source": [
    "def encoding_data(df,col):\n",
    "  for i in col:\n",
    "     df_dummies = pd.get_dummies(df[i], prefix=i)\n",
    "     df = pd.concat([df, df_dummies], axis=1)\n",
    "     df.drop([i],inplace=True,axis=1)\n",
    "  return df"
   ]
  },
  {
   "cell_type": "code",
   "execution_count": 15,
   "id": "855a4187-a3a2-4608-9d1d-cb06cbe109a8",
   "metadata": {},
   "outputs": [],
   "source": [
    "columns=['call_type','prev_outcome','marital','job']\n",
    "df=encoding_data(df,columns)"
   ]
  },
  {
   "cell_type": "code",
   "execution_count": 16,
   "id": "104f196c-45f2-4fd7-875f-1860ac83255f",
   "metadata": {},
   "outputs": [],
   "source": [
    "months = ['jan', 'feb', 'mar', 'apr', 'may', 'jun', 'jul', 'aug', 'sep', 'oct', 'nov', 'dec']\n",
    "\n",
    "df['mon'] = df['mon'].apply(\n",
    "    lambda x: months.index(x)+1\n",
    ")"
   ]
  },
  {
   "cell_type": "code",
   "execution_count": 17,
   "id": "f93cf0eb-2108-4402-b25c-997461cbc3c5",
   "metadata": {},
   "outputs": [],
   "source": [
    "df.replace({'education_qual' : { 'unknown' : 0, 'tertiary' : 1, 'secondary' : 2, 'primary' : 3 }},inplace=True)"
   ]
  },
  {
   "cell_type": "code",
   "execution_count": 18,
   "id": "cd5ed247-9159-49e7-a19e-7d3c9df5f1cd",
   "metadata": {},
   "outputs": [
    {
     "data": {
      "text/html": [
       "<div>\n",
       "<style scoped>\n",
       "    .dataframe tbody tr th:only-of-type {\n",
       "        vertical-align: middle;\n",
       "    }\n",
       "\n",
       "    .dataframe tbody tr th {\n",
       "        vertical-align: top;\n",
       "    }\n",
       "\n",
       "    .dataframe thead th {\n",
       "        text-align: right;\n",
       "    }\n",
       "</style>\n",
       "<table border=\"1\" class=\"dataframe\">\n",
       "  <thead>\n",
       "    <tr style=\"text-align: right;\">\n",
       "      <th></th>\n",
       "      <th>age</th>\n",
       "      <th>education_qual</th>\n",
       "      <th>day</th>\n",
       "      <th>mon</th>\n",
       "      <th>dur</th>\n",
       "      <th>num_calls</th>\n",
       "      <th>y</th>\n",
       "      <th>call_type_cellular</th>\n",
       "      <th>call_type_telephone</th>\n",
       "      <th>call_type_unknown</th>\n",
       "      <th>...</th>\n",
       "      <th>job_entrepreneur</th>\n",
       "      <th>job_housemaid</th>\n",
       "      <th>job_management</th>\n",
       "      <th>job_retired</th>\n",
       "      <th>job_self-employed</th>\n",
       "      <th>job_services</th>\n",
       "      <th>job_student</th>\n",
       "      <th>job_technician</th>\n",
       "      <th>job_unemployed</th>\n",
       "      <th>job_unknown</th>\n",
       "    </tr>\n",
       "  </thead>\n",
       "  <tbody>\n",
       "    <tr>\n",
       "      <th>0</th>\n",
       "      <td>58</td>\n",
       "      <td>1</td>\n",
       "      <td>5</td>\n",
       "      <td>5</td>\n",
       "      <td>261</td>\n",
       "      <td>1</td>\n",
       "      <td>0</td>\n",
       "      <td>False</td>\n",
       "      <td>False</td>\n",
       "      <td>True</td>\n",
       "      <td>...</td>\n",
       "      <td>False</td>\n",
       "      <td>False</td>\n",
       "      <td>True</td>\n",
       "      <td>False</td>\n",
       "      <td>False</td>\n",
       "      <td>False</td>\n",
       "      <td>False</td>\n",
       "      <td>False</td>\n",
       "      <td>False</td>\n",
       "      <td>False</td>\n",
       "    </tr>\n",
       "    <tr>\n",
       "      <th>1</th>\n",
       "      <td>44</td>\n",
       "      <td>2</td>\n",
       "      <td>5</td>\n",
       "      <td>5</td>\n",
       "      <td>151</td>\n",
       "      <td>1</td>\n",
       "      <td>0</td>\n",
       "      <td>False</td>\n",
       "      <td>False</td>\n",
       "      <td>True</td>\n",
       "      <td>...</td>\n",
       "      <td>False</td>\n",
       "      <td>False</td>\n",
       "      <td>False</td>\n",
       "      <td>False</td>\n",
       "      <td>False</td>\n",
       "      <td>False</td>\n",
       "      <td>False</td>\n",
       "      <td>True</td>\n",
       "      <td>False</td>\n",
       "      <td>False</td>\n",
       "    </tr>\n",
       "    <tr>\n",
       "      <th>2</th>\n",
       "      <td>33</td>\n",
       "      <td>2</td>\n",
       "      <td>5</td>\n",
       "      <td>5</td>\n",
       "      <td>76</td>\n",
       "      <td>1</td>\n",
       "      <td>0</td>\n",
       "      <td>False</td>\n",
       "      <td>False</td>\n",
       "      <td>True</td>\n",
       "      <td>...</td>\n",
       "      <td>True</td>\n",
       "      <td>False</td>\n",
       "      <td>False</td>\n",
       "      <td>False</td>\n",
       "      <td>False</td>\n",
       "      <td>False</td>\n",
       "      <td>False</td>\n",
       "      <td>False</td>\n",
       "      <td>False</td>\n",
       "      <td>False</td>\n",
       "    </tr>\n",
       "    <tr>\n",
       "      <th>3</th>\n",
       "      <td>47</td>\n",
       "      <td>0</td>\n",
       "      <td>5</td>\n",
       "      <td>5</td>\n",
       "      <td>92</td>\n",
       "      <td>1</td>\n",
       "      <td>0</td>\n",
       "      <td>False</td>\n",
       "      <td>False</td>\n",
       "      <td>True</td>\n",
       "      <td>...</td>\n",
       "      <td>False</td>\n",
       "      <td>False</td>\n",
       "      <td>False</td>\n",
       "      <td>False</td>\n",
       "      <td>False</td>\n",
       "      <td>False</td>\n",
       "      <td>False</td>\n",
       "      <td>False</td>\n",
       "      <td>False</td>\n",
       "      <td>False</td>\n",
       "    </tr>\n",
       "    <tr>\n",
       "      <th>4</th>\n",
       "      <td>33</td>\n",
       "      <td>0</td>\n",
       "      <td>5</td>\n",
       "      <td>5</td>\n",
       "      <td>198</td>\n",
       "      <td>1</td>\n",
       "      <td>0</td>\n",
       "      <td>False</td>\n",
       "      <td>False</td>\n",
       "      <td>True</td>\n",
       "      <td>...</td>\n",
       "      <td>False</td>\n",
       "      <td>False</td>\n",
       "      <td>False</td>\n",
       "      <td>False</td>\n",
       "      <td>False</td>\n",
       "      <td>False</td>\n",
       "      <td>False</td>\n",
       "      <td>False</td>\n",
       "      <td>False</td>\n",
       "      <td>True</td>\n",
       "    </tr>\n",
       "    <tr>\n",
       "      <th>...</th>\n",
       "      <td>...</td>\n",
       "      <td>...</td>\n",
       "      <td>...</td>\n",
       "      <td>...</td>\n",
       "      <td>...</td>\n",
       "      <td>...</td>\n",
       "      <td>...</td>\n",
       "      <td>...</td>\n",
       "      <td>...</td>\n",
       "      <td>...</td>\n",
       "      <td>...</td>\n",
       "      <td>...</td>\n",
       "      <td>...</td>\n",
       "      <td>...</td>\n",
       "      <td>...</td>\n",
       "      <td>...</td>\n",
       "      <td>...</td>\n",
       "      <td>...</td>\n",
       "      <td>...</td>\n",
       "      <td>...</td>\n",
       "      <td>...</td>\n",
       "    </tr>\n",
       "    <tr>\n",
       "      <th>45206</th>\n",
       "      <td>51</td>\n",
       "      <td>1</td>\n",
       "      <td>17</td>\n",
       "      <td>11</td>\n",
       "      <td>643</td>\n",
       "      <td>3</td>\n",
       "      <td>1</td>\n",
       "      <td>True</td>\n",
       "      <td>False</td>\n",
       "      <td>False</td>\n",
       "      <td>...</td>\n",
       "      <td>False</td>\n",
       "      <td>False</td>\n",
       "      <td>False</td>\n",
       "      <td>False</td>\n",
       "      <td>False</td>\n",
       "      <td>False</td>\n",
       "      <td>False</td>\n",
       "      <td>True</td>\n",
       "      <td>False</td>\n",
       "      <td>False</td>\n",
       "    </tr>\n",
       "    <tr>\n",
       "      <th>45207</th>\n",
       "      <td>70</td>\n",
       "      <td>3</td>\n",
       "      <td>17</td>\n",
       "      <td>11</td>\n",
       "      <td>456</td>\n",
       "      <td>2</td>\n",
       "      <td>1</td>\n",
       "      <td>True</td>\n",
       "      <td>False</td>\n",
       "      <td>False</td>\n",
       "      <td>...</td>\n",
       "      <td>False</td>\n",
       "      <td>False</td>\n",
       "      <td>False</td>\n",
       "      <td>True</td>\n",
       "      <td>False</td>\n",
       "      <td>False</td>\n",
       "      <td>False</td>\n",
       "      <td>False</td>\n",
       "      <td>False</td>\n",
       "      <td>False</td>\n",
       "    </tr>\n",
       "    <tr>\n",
       "      <th>45208</th>\n",
       "      <td>70</td>\n",
       "      <td>2</td>\n",
       "      <td>17</td>\n",
       "      <td>11</td>\n",
       "      <td>643</td>\n",
       "      <td>5</td>\n",
       "      <td>1</td>\n",
       "      <td>True</td>\n",
       "      <td>False</td>\n",
       "      <td>False</td>\n",
       "      <td>...</td>\n",
       "      <td>False</td>\n",
       "      <td>False</td>\n",
       "      <td>False</td>\n",
       "      <td>True</td>\n",
       "      <td>False</td>\n",
       "      <td>False</td>\n",
       "      <td>False</td>\n",
       "      <td>False</td>\n",
       "      <td>False</td>\n",
       "      <td>False</td>\n",
       "    </tr>\n",
       "    <tr>\n",
       "      <th>45209</th>\n",
       "      <td>57</td>\n",
       "      <td>2</td>\n",
       "      <td>17</td>\n",
       "      <td>11</td>\n",
       "      <td>508</td>\n",
       "      <td>4</td>\n",
       "      <td>0</td>\n",
       "      <td>False</td>\n",
       "      <td>True</td>\n",
       "      <td>False</td>\n",
       "      <td>...</td>\n",
       "      <td>False</td>\n",
       "      <td>False</td>\n",
       "      <td>False</td>\n",
       "      <td>False</td>\n",
       "      <td>False</td>\n",
       "      <td>False</td>\n",
       "      <td>False</td>\n",
       "      <td>False</td>\n",
       "      <td>False</td>\n",
       "      <td>False</td>\n",
       "    </tr>\n",
       "    <tr>\n",
       "      <th>45210</th>\n",
       "      <td>37</td>\n",
       "      <td>2</td>\n",
       "      <td>17</td>\n",
       "      <td>11</td>\n",
       "      <td>361</td>\n",
       "      <td>2</td>\n",
       "      <td>0</td>\n",
       "      <td>True</td>\n",
       "      <td>False</td>\n",
       "      <td>False</td>\n",
       "      <td>...</td>\n",
       "      <td>True</td>\n",
       "      <td>False</td>\n",
       "      <td>False</td>\n",
       "      <td>False</td>\n",
       "      <td>False</td>\n",
       "      <td>False</td>\n",
       "      <td>False</td>\n",
       "      <td>False</td>\n",
       "      <td>False</td>\n",
       "      <td>False</td>\n",
       "    </tr>\n",
       "  </tbody>\n",
       "</table>\n",
       "<p>45211 rows × 29 columns</p>\n",
       "</div>"
      ],
      "text/plain": [
       "       age  education_qual  day  mon  dur  num_calls  y  call_type_cellular  \\\n",
       "0       58               1    5    5  261          1  0               False   \n",
       "1       44               2    5    5  151          1  0               False   \n",
       "2       33               2    5    5   76          1  0               False   \n",
       "3       47               0    5    5   92          1  0               False   \n",
       "4       33               0    5    5  198          1  0               False   \n",
       "...    ...             ...  ...  ...  ...        ... ..                 ...   \n",
       "45206   51               1   17   11  643          3  1                True   \n",
       "45207   70               3   17   11  456          2  1                True   \n",
       "45208   70               2   17   11  643          5  1                True   \n",
       "45209   57               2   17   11  508          4  0               False   \n",
       "45210   37               2   17   11  361          2  0                True   \n",
       "\n",
       "       call_type_telephone  call_type_unknown  ...  job_entrepreneur  \\\n",
       "0                    False               True  ...             False   \n",
       "1                    False               True  ...             False   \n",
       "2                    False               True  ...              True   \n",
       "3                    False               True  ...             False   \n",
       "4                    False               True  ...             False   \n",
       "...                    ...                ...  ...               ...   \n",
       "45206                False              False  ...             False   \n",
       "45207                False              False  ...             False   \n",
       "45208                False              False  ...             False   \n",
       "45209                 True              False  ...             False   \n",
       "45210                False              False  ...              True   \n",
       "\n",
       "       job_housemaid  job_management  job_retired  job_self-employed  \\\n",
       "0              False            True        False              False   \n",
       "1              False           False        False              False   \n",
       "2              False           False        False              False   \n",
       "3              False           False        False              False   \n",
       "4              False           False        False              False   \n",
       "...              ...             ...          ...                ...   \n",
       "45206          False           False        False              False   \n",
       "45207          False           False         True              False   \n",
       "45208          False           False         True              False   \n",
       "45209          False           False        False              False   \n",
       "45210          False           False        False              False   \n",
       "\n",
       "       job_services  job_student  job_technician  job_unemployed  job_unknown  \n",
       "0             False        False           False           False        False  \n",
       "1             False        False            True           False        False  \n",
       "2             False        False           False           False        False  \n",
       "3             False        False           False           False        False  \n",
       "4             False        False           False           False         True  \n",
       "...             ...          ...             ...             ...          ...  \n",
       "45206         False        False            True           False        False  \n",
       "45207         False        False           False           False        False  \n",
       "45208         False        False           False           False        False  \n",
       "45209         False        False           False           False        False  \n",
       "45210         False        False           False           False        False  \n",
       "\n",
       "[45211 rows x 29 columns]"
      ]
     },
     "execution_count": 18,
     "metadata": {},
     "output_type": "execute_result"
    }
   ],
   "source": [
    "df"
   ]
  },
  {
   "cell_type": "markdown",
   "id": "71fc9958-d6f3-44f7-9fe3-e8e44b6bc80b",
   "metadata": {},
   "source": [
    "## Splitting of Dataset"
   ]
  },
  {
   "cell_type": "code",
   "execution_count": 19,
   "id": "02531354-a408-4fa1-b5e7-52b525a8f267",
   "metadata": {},
   "outputs": [],
   "source": [
    "p= df.drop(['y'],axis=1)\n",
    "q= df['y']"
   ]
  },
  {
   "cell_type": "markdown",
   "id": "771a03fe-e28b-4c45-92c2-7899d12fe4e1",
   "metadata": {},
   "source": [
    "# Resampling of Dataset"
   ]
  },
  {
   "cell_type": "markdown",
   "id": "ded63e00-d264-4ca6-bf93-69422796a765",
   "metadata": {},
   "source": [
    "**Since the class distribution in the target variable is ~89:11 indicating an imbalance dataset, we need to resample it.**"
   ]
  },
  {
   "cell_type": "code",
   "execution_count": 20,
   "id": "00ce8bfa-1281-4939-9702-0f0a7d520811",
   "metadata": {},
   "outputs": [
    {
     "name": "stdout",
     "output_type": "stream",
     "text": [
      "y\n",
      "0    39922\n",
      "1    30486\n",
      "Name: count, dtype: int64\n"
     ]
    }
   ],
   "source": [
    "from imblearn.over_sampling import ADASYN\n",
    "adasyn = ADASYN(sampling_strategy=0.75)\n",
    "X, y = adasyn.fit_resample(p, q)\n",
    "print(y.value_counts())"
   ]
  },
  {
   "cell_type": "markdown",
   "id": "93354dcb-a759-4ba2-83ac-5054059e4f45",
   "metadata": {},
   "source": [
    "## Train - Test Split"
   ]
  },
  {
   "cell_type": "code",
   "execution_count": 21,
   "id": "5c72ff80-2046-482e-9dd0-b14e3ad5ada1",
   "metadata": {},
   "outputs": [],
   "source": [
    "from sklearn.model_selection import train_test_split\n",
    "X_train, X_test, y_train, y_test = train_test_split(X, y, test_size=0.33, random_state=43)"
   ]
  },
  {
   "cell_type": "markdown",
   "id": "c5a37a68-d1c7-4a5e-93b0-3c5c5a6793bf",
   "metadata": {},
   "source": [
    "## Scalling"
   ]
  },
  {
   "cell_type": "code",
   "execution_count": 22,
   "id": "cdb1a4d3-7ab7-4e66-96c5-f61322e182a1",
   "metadata": {},
   "outputs": [],
   "source": [
    "from sklearn.preprocessing import StandardScaler\n",
    "\n",
    "scaler = StandardScaler()\n",
    "X_train = scaler.fit_transform(X_train)\n",
    "X_test = scaler.transform(X_test)"
   ]
  },
  {
   "cell_type": "markdown",
   "id": "7b30a48b-d327-4401-969b-340a40d619c9",
   "metadata": {},
   "source": [
    "# Models"
   ]
  },
  {
   "cell_type": "markdown",
   "id": "f60cf557-646d-4807-a45d-1344dd9294cb",
   "metadata": {},
   "source": [
    "## Logistic Regression"
   ]
  },
  {
   "cell_type": "code",
   "execution_count": 17,
   "id": "c270d81b-a27b-4ce5-8734-02958a69ba25",
   "metadata": {},
   "outputs": [
    {
     "name": "stdout",
     "output_type": "stream",
     "text": [
      "Best Accuracy Score: 0.9216020451640392\n",
      "Best Parameters: {'C': 10, 'solver': 'liblinear', 'max_iter': 200}\n"
     ]
    }
   ],
   "source": [
    "import pandas as pd\n",
    "from sklearn.linear_model import LogisticRegression\n",
    "from sklearn.model_selection import train_test_split\n",
    "from sklearn.metrics import accuracy_score\n",
    "import itertools\n",
    "import warnings\n",
    "from sklearn.exceptions import ConvergenceWarning\n",
    "\n",
    "# Define logistic regression parameters\n",
    "logistic_regression_params = {\n",
    "    'C': [1, 5, 10],\n",
    "    'solver': ['liblinear', 'saga'],\n",
    "    'max_iter': [200, 500, 1000]  # Increased max_iter values\n",
    "}\n",
    "\n",
    "# Function to manually perform hyperparameter tuning for logistic regression\n",
    "def tune_logistic_regression(params):\n",
    "    best_score = 0\n",
    "    best_params = {}\n",
    "    keys, values = zip(*params.items())\n",
    "    \n",
    "    for v in itertools.product(*values):\n",
    "        param_dict = dict(zip(keys, v))\n",
    "        model = LogisticRegression(**param_dict)\n",
    "        with warnings.catch_warnings():\n",
    "            warnings.filterwarnings(\"ignore\", category=ConvergenceWarning, module=\"sklearn\")\n",
    "            model.fit(X_train, y_train)\n",
    "            y_pred = model.predict(X_test)\n",
    "            score = accuracy_score(y_test, y_pred)\n",
    "        \n",
    "        if score > best_score:\n",
    "            best_score = score\n",
    "            best_params = param_dict\n",
    "    \n",
    "    return best_score, best_params\n",
    "\n",
    "# Perform tuning for logistic regression\n",
    "best_score, best_params = tune_logistic_regression(logistic_regression_params)\n",
    "\n",
    "# Print the best accuracy score and the corresponding parameter values\n",
    "print(f\"Best Accuracy Score: {best_score}\")\n",
    "print(f\"Best Parameters: {best_params}\")\n"
   ]
  },
  {
   "cell_type": "markdown",
   "id": "ee84f5d1-5f1d-4eac-9c93-6a5b614d3f5e",
   "metadata": {},
   "source": [
    "## Random Forest Classifier"
   ]
  },
  {
   "cell_type": "code",
   "execution_count": 19,
   "id": "9b3a9f77-61c7-4903-86ab-2889bbafb21c",
   "metadata": {},
   "outputs": [
    {
     "name": "stdout",
     "output_type": "stream",
     "text": [
      "Best Accuracy Score: 0.9363726743360318\n",
      "Best Parameters: {'n_estimators': 20}\n"
     ]
    }
   ],
   "source": [
    "from sklearn.ensemble import RandomForestClassifier\n",
    "from sklearn.metrics import accuracy_score\n",
    "import itertools\n",
    "import warnings\n",
    "from sklearn.exceptions import ConvergenceWarning\n",
    "\n",
    "rf_params = {\n",
    "    'n_estimators': [1, 5, 10, 20]\n",
    "}\n",
    "\n",
    "def tune_rf(params):\n",
    "    best_score = 0\n",
    "    best_params = {}\n",
    "    keys, values = zip(*params.items())\n",
    "    \n",
    "    for v in itertools.product(*values):\n",
    "        param_dict = dict(zip(keys, v))\n",
    "        model = RandomForestClassifier(**param_dict)\n",
    "        with warnings.catch_warnings():\n",
    "            warnings.filterwarnings(\"ignore\", category=ConvergenceWarning, module=\"sklearn\")\n",
    "            model.fit(X_train, y_train)\n",
    "            y_pred = model.predict(X_test)\n",
    "            score = accuracy_score(y_test, y_pred)\n",
    "        \n",
    "        if score > best_score:\n",
    "            best_score = score\n",
    "            best_params = param_dict\n",
    "    \n",
    "    return best_score, best_params\n",
    "\n",
    "best_score, best_params = tune_rf(rf_params)\n",
    "\n",
    "print(f\"Best Accuracy Score: {best_score}\")\n",
    "print(f\"Best Parameters: {best_params}\")\n"
   ]
  },
  {
   "cell_type": "markdown",
   "id": "8c9b99ee-f68b-45e5-91a9-f5a0ba751cc6",
   "metadata": {},
   "source": [
    "## Decision Tree"
   ]
  },
  {
   "cell_type": "code",
   "execution_count": 20,
   "id": "fdf5f738-6058-4bc5-98ec-ab60195514a4",
   "metadata": {},
   "outputs": [
    {
     "name": "stdout",
     "output_type": "stream",
     "text": [
      "Best Accuracy Score: 0.9381479903422809\n",
      "Best Parameters: {'criterion': 'gini', 'max_depth': None}\n"
     ]
    }
   ],
   "source": [
    "from sklearn.tree import DecisionTreeClassifier\n",
    "from sklearn.metrics import accuracy_score\n",
    "import itertools\n",
    "import warnings\n",
    "from sklearn.exceptions import ConvergenceWarning\n",
    "\n",
    "dt_params = {\n",
    "    'criterion': ['gini', 'entropy'],\n",
    "    'max_depth': [None, 5, 10, 15]\n",
    "}\n",
    "\n",
    "def tune_dt(params):\n",
    "    best_score = 0\n",
    "    best_params = {}\n",
    "    keys, values = zip(*params.items())\n",
    "    \n",
    "    for v in itertools.product(*values):\n",
    "        param_dict = dict(zip(keys, v))\n",
    "        model = DecisionTreeClassifier(**param_dict)\n",
    "        with warnings.catch_warnings():\n",
    "            warnings.filterwarnings(\"ignore\", category=ConvergenceWarning, module=\"sklearn\")\n",
    "            model.fit(X_train, y_train)\n",
    "            y_pred = model.predict(X_test)\n",
    "            score = accuracy_score(y_test, y_pred)\n",
    "        \n",
    "        if score > best_score:\n",
    "            best_score = score\n",
    "            best_params = param_dict\n",
    "    \n",
    "    return best_score, best_params\n",
    "\n",
    "best_score, best_params = tune_rf(dt_params)\n",
    "\n",
    "print(f\"Best Accuracy Score: {best_score}\")\n",
    "print(f\"Best Parameters: {best_params}\")"
   ]
  },
  {
   "cell_type": "markdown",
   "id": "80b39428-f4ff-4841-8bbc-24fc6091c8b6",
   "metadata": {},
   "source": [
    "## Support Vector Machine (SVM)"
   ]
  },
  {
   "cell_type": "code",
   "execution_count": 23,
   "id": "74b7a78d-3846-4c32-a480-e71e4c21ea2f",
   "metadata": {},
   "outputs": [
    {
     "name": "stdout",
     "output_type": "stream",
     "text": [
      "Accuracy Score: 0.9153001936733376\n"
     ]
    }
   ],
   "source": [
    "from sklearn import svm\n",
    "from sklearn.metrics import accuracy_score\n",
    "model = svm.SVC(kernel='linear')\n",
    "model.fit(X_train, y_train)\n",
    "y_pred = model.predict(X_test)\n",
    "best_score = accuracy_score(y_test, y_pred)\n",
    "print(f\"Accuracy Score: {best_score}\")"
   ]
  },
  {
   "cell_type": "markdown",
   "id": "935c3e67-b290-4ef9-8313-fd0412fa4ecb",
   "metadata": {},
   "source": [
    "## K-Nearest Neighbors (KNN)"
   ]
  },
  {
   "cell_type": "code",
   "execution_count": 25,
   "id": "3cbffb6b-61d3-414d-b472-760587e9f7c7",
   "metadata": {},
   "outputs": [
    {
     "name": "stdout",
     "output_type": "stream",
     "text": [
      "Best Accuracy Score: 0.9307510221648375\n",
      "Best Parameters: {'n_neighbors': 9, 'weights': 'distance', 'p': 1}\n"
     ]
    }
   ],
   "source": [
    "from sklearn.neighbors import KNeighborsClassifier\n",
    "from sklearn.metrics import accuracy_score\n",
    "import itertools\n",
    "import warnings\n",
    "from sklearn.exceptions import ConvergenceWarning\n",
    "\n",
    "knn_params = {\n",
    "    'n_neighbors': [3, 5, 7, 9],\n",
    "    'weights': ['uniform', 'distance'],\n",
    "    'p': [1, 2]\n",
    "}\n",
    "\n",
    "def tune_knn(params):\n",
    "    best_score = 0\n",
    "    best_params = {}\n",
    "    keys, values = zip(*params.items())\n",
    "    \n",
    "    for v in itertools.product(*values):\n",
    "        param_dict = dict(zip(keys, v))\n",
    "        model = KNeighborsClassifier(**param_dict)\n",
    "        with warnings.catch_warnings():\n",
    "            warnings.filterwarnings(\"ignore\", category=ConvergenceWarning, module=\"sklearn\")\n",
    "            model.fit(X_train, y_train)\n",
    "            y_pred = model.predict(X_test)\n",
    "            score = accuracy_score(y_test, y_pred)\n",
    "        \n",
    "        if score > best_score:\n",
    "            best_score = score\n",
    "            best_params = param_dict\n",
    "    \n",
    "    return best_score, best_params\n",
    "\n",
    "best_score, best_params = tune_knn(knn_params)\n",
    "\n",
    "print(f\"Best Accuracy Score: {best_score}\")\n",
    "print(f\"Best Parameters: {best_params}\")"
   ]
  },
  {
   "cell_type": "markdown",
   "id": "3ff0c889-6fd9-490a-a634-24a7d4db6e0a",
   "metadata": {},
   "source": [
    "## Naive Bayes (GaussianNB)"
   ]
  },
  {
   "cell_type": "code",
   "execution_count": 29,
   "id": "87efbe03-c971-4889-8f56-cd332edb06d8",
   "metadata": {},
   "outputs": [
    {
     "name": "stdout",
     "output_type": "stream",
     "text": [
      "Accuracy Score: 0.8083925112976114\n"
     ]
    }
   ],
   "source": [
    "from sklearn.naive_bayes import GaussianNB\n",
    "from sklearn.metrics import accuracy_score\n",
    "model = GaussianNB()\n",
    "model.fit(X_train, y_train)\n",
    "y_pred = model.predict(X_test)\n",
    "best_score = accuracy_score(y_test, y_pred)\n",
    "print(f\"Accuracy Score: {best_score}\")"
   ]
  },
  {
   "cell_type": "markdown",
   "id": "c4657649-1894-4fb2-950d-0ac2ed65cf09",
   "metadata": {},
   "source": [
    "## Gradient Boosting"
   ]
  },
  {
   "cell_type": "code",
   "execution_count": 30,
   "id": "841b63e3-8ba3-4a18-be16-f49490b76849",
   "metadata": {},
   "outputs": [
    {
     "name": "stdout",
     "output_type": "stream",
     "text": [
      "Best Accuracy Score: 0.9371637615666021\n",
      "Best Parameters: {'n_estimators': 200, 'max_depth': 7, 'learning_rate': 0.2, 'subsample': 0.8}\n"
     ]
    }
   ],
   "source": [
    "import xgboost as xgb\n",
    "from sklearn.metrics import accuracy_score\n",
    "import itertools\n",
    "import warnings\n",
    "from sklearn.exceptions import ConvergenceWarning\n",
    "\n",
    "xgb_params = {\n",
    "    'n_estimators': [50, 100, 200],\n",
    "    'max_depth': [3, 5, 7],\n",
    "    'learning_rate': [0.01, 0.1, 0.2],\n",
    "    'subsample': [0.6, 0.8, 1.0]\n",
    "}\n",
    "\n",
    "def tune_xgb(params):\n",
    "    best_score = 0\n",
    "    best_params = {}\n",
    "    keys, values = zip(*params.items())\n",
    "    \n",
    "    for v in itertools.product(*values):\n",
    "        param_dict = dict(zip(keys, v))\n",
    "        model = xgb.XGBClassifier(**param_dict, use_label_encoder=False, eval_metric='logloss')\n",
    "        with warnings.catch_warnings():\n",
    "            warnings.filterwarnings(\"ignore\", category=ConvergenceWarning, module=\"sklearn\")\n",
    "            model.fit(X_train, y_train)\n",
    "            y_pred = model.predict(X_test)\n",
    "            score = accuracy_score(y_test, y_pred)\n",
    "        \n",
    "        if score > best_score:\n",
    "            best_score = score\n",
    "            best_params = param_dict\n",
    "    \n",
    "    return best_score, best_params\n",
    "\n",
    "best_score, best_params = tune_xgb(xgb_params)\n",
    "\n",
    "print(f\"Best Accuracy Score: {best_score}\")\n",
    "print(f\"Best Parameters: {best_params}\")"
   ]
  },
  {
   "cell_type": "markdown",
   "id": "54dbc7ff-9740-4dfb-81d2-602c35375215",
   "metadata": {},
   "source": [
    "**Given the minimal difference in accuracy scores among the Random Forest Classifier, Decision Tree, KNN, and Gradient Boosting models with their optimized parameters, further evaluation is necessary to determine the best model.**"
   ]
  },
  {
   "cell_type": "markdown",
   "id": "0fd7059d-b602-4a3c-af77-88f87778c467",
   "metadata": {},
   "source": [
    "## Cross Validation"
   ]
  },
  {
   "cell_type": "code",
   "execution_count": 32,
   "id": "b8d1f8e7-baf1-41f6-bffe-d578c896b418",
   "metadata": {},
   "outputs": [
    {
     "name": "stdout",
     "output_type": "stream",
     "text": [
      "Random Forest Classifier - Mean Accuracy: 0.835856180439891, Std Dev: 0.11458943176048544\n",
      "Decision Tree - Mean Accuracy: 0.7684903559992768, Std Dev: 0.0959984432600419\n",
      "KNN - Mean Accuracy: 0.81348601454468, Std Dev: 0.05638532218738861\n",
      "Gradient Boosting - Mean Accuracy: 0.7729927248357026, Std Dev: 0.11850736610182583\n"
     ]
    }
   ],
   "source": [
    "from sklearn.model_selection import cross_val_score\n",
    "from sklearn.ensemble import RandomForestClassifier\n",
    "from sklearn.tree import DecisionTreeClassifier\n",
    "from sklearn.neighbors import KNeighborsClassifier\n",
    "from sklearn.ensemble import GradientBoostingClassifier\n",
    "\n",
    "models = {\n",
    "    'Random Forest Classifier': RandomForestClassifier(n_estimators=20),\n",
    "    'Decision Tree': DecisionTreeClassifier(criterion='gini', max_depth=None),\n",
    "    'KNN': KNeighborsClassifier(n_neighbors=9, weights='distance', p=1),\n",
    "    'Gradient Boosting': GradientBoostingClassifier(n_estimators=200, max_depth=7, learning_rate=0.2, subsample=0.8)\n",
    "}\n",
    "\n",
    "for model_name, model in models.items():\n",
    "    scores = cross_val_score(model, X, y, cv=10, scoring='accuracy')\n",
    "    print(f\"{model_name} - Mean Accuracy: {scores.mean()}, Std Dev: {scores.std()}\")"
   ]
  },
  {
   "cell_type": "markdown",
   "id": "eda1fce4-eeeb-4bea-a8ab-4253bd0d8f1a",
   "metadata": {},
   "source": [
    "## AUC Score"
   ]
  },
  {
   "cell_type": "code",
   "execution_count": 33,
   "id": "4e52f895-6e44-46b1-b62c-0df321e34435",
   "metadata": {},
   "outputs": [
    {
     "name": "stdout",
     "output_type": "stream",
     "text": [
      "Random Forest AUC: 0.9831834770890706\n",
      "Decision Tree AUC: 0.9089180220679419\n",
      "KNN AUC: 0.9755458410780322\n",
      "Gradient Boosting AUC: 0.9856676206918306\n"
     ]
    }
   ],
   "source": [
    "from sklearn.metrics import roc_auc_score\n",
    "\n",
    "random_forest = RandomForestClassifier(n_estimators=20, random_state=42)\n",
    "decision_tree = DecisionTreeClassifier(criterion='gini', max_depth=None, random_state=42)\n",
    "knn = KNeighborsClassifier(n_neighbors=9, weights='distance', p=1)\n",
    "gradient_boosting = GradientBoostingClassifier(n_estimators=200, max_depth=7, learning_rate=0.2, subsample=0.8, random_state=42)\n",
    "\n",
    "random_forest.fit(X_train, y_train)\n",
    "decision_tree.fit(X_train, y_train)\n",
    "knn.fit(X_train, y_train)\n",
    "gradient_boosting.fit(X_train, y_train)\n",
    "\n",
    "random_forest_probs = random_forest.predict_proba(X_test)[:, 1]\n",
    "decision_tree_probs = decision_tree.predict_proba(X_test)[:, 1]\n",
    "knn_probs = knn.predict_proba(X_test)[:, 1]\n",
    "gradient_boosting_probs = gradient_boosting.predict_proba(X_test)[:, 1]\n",
    "\n",
    "random_forest_auc = roc_auc_score(y_test, random_forest_probs)\n",
    "decision_tree_auc = roc_auc_score(y_test, decision_tree_probs)\n",
    "knn_auc = roc_auc_score(y_test, knn_probs)\n",
    "gradient_boosting_auc = roc_auc_score(y_test, gradient_boosting_probs)\n",
    "\n",
    "print(\"Random Forest AUC:\", random_forest_auc)\n",
    "print(\"Decision Tree AUC:\", decision_tree_auc)\n",
    "print(\"KNN AUC:\", knn_auc)\n",
    "print(\"Gradient Boosting AUC:\", gradient_boosting_auc)"
   ]
  },
  {
   "cell_type": "markdown",
   "id": "1be973d3-fc97-4fec-8433-109538a4fc5c",
   "metadata": {},
   "source": [
    "**The Gradient Boosting model, with a ROC AUC score of 0.986 and a mean accuracy of 0.773 (±0.119), stands out as the best performer, demonstrating superior discrimination ability and consistent performance across the provided dataset.**"
   ]
  },
  {
   "cell_type": "markdown",
   "id": "b880e9d7-e33a-412c-8210-9024e68776ba",
   "metadata": {},
   "source": [
    "## Features Importance"
   ]
  },
  {
   "cell_type": "code",
   "execution_count": 37,
   "id": "65dcf75f-0d62-4007-a1e4-61c53bedfc56",
   "metadata": {},
   "outputs": [
    {
     "name": "stdout",
     "output_type": "stream",
     "text": [
      "Important Features:\n",
      "                 Feature  Importance\n",
      "4                    dur    0.278727\n",
      "12  prev_outcome_unknown    0.150684\n",
      "9   prev_outcome_failure    0.103229\n",
      "3                    mon    0.070860\n",
      "10    prev_outcome_other    0.057876\n",
      "8      call_type_unknown    0.043599\n",
      "2                    day    0.043346\n",
      "0                    age    0.042696\n",
      "13      marital_divorced    0.026297\n",
      "1         education_qual    0.021311\n",
      "20        job_management    0.019058\n",
      "17       job_blue-collar    0.016817\n",
      "15        marital_single    0.016270\n",
      "14       marital_married    0.016026\n",
      "5              num_calls    0.014571\n",
      "25        job_technician    0.014348\n",
      "16            job_admin.    0.008836\n",
      "11  prev_outcome_success    0.008732\n",
      "23          job_services    0.008360\n",
      "6     call_type_cellular    0.008276\n",
      "7    call_type_telephone    0.007292\n",
      "18      job_entrepreneur    0.005291\n",
      "22     job_self-employed    0.004901\n",
      "21           job_retired    0.003560\n",
      "26        job_unemployed    0.003341\n",
      "19         job_housemaid    0.002852\n",
      "24           job_student    0.002020\n",
      "27           job_unknown    0.000823\n"
     ]
    }
   ],
   "source": [
    "gradient_boosting.fit(X_train, y_train)\n",
    "feature_importances = gradient_boosting.feature_importances_\n",
    "feature_importance_df = pd.DataFrame({'Feature': X.columns, 'Importance': feature_importances})\n",
    "feature_importance_df = feature_importance_df.sort_values(by='Importance', ascending=False)\n",
    "print(\"Important Features:\")\n",
    "print(feature_importance_df)"
   ]
  },
  {
   "cell_type": "markdown",
   "id": "864c5b1a-445a-47a7-85ec-b0a2d10416ca",
   "metadata": {},
   "source": [
    "**Most important feature is Duration.**\r\n",
    "**"
   ]
  },
  {
   "cell_type": "markdown",
   "id": "e96aa2ca-f15e-45f7-a252-bbfc3a12e927",
   "metadata": {},
   "source": [
    "# Conclusion"
   ]
  },
  {
   "cell_type": "markdown",
   "id": "370709d4-0fab-42e2-a594-b1b31287cee0",
   "metadata": {},
   "source": [
    "**After assessing seven different models (Logistic Regression, Support Vector Machine, Naive Bayes, Random Forest Classifier, Decision Tree, KNN and Gradient Boosting) to predict client subscriptions, the Gradient Boosting model stood out. With a high ROC AUC score of 0.986 and an average accuracy of 0.773 (plus or minus 0.119), it showed excellent prediction ability across various data sets.**\n",
    "\n",
    "**This suggests that the Gradient Boosting model is a great choice for predicting if a client will subscribe to insurance. Using this model in real-world scenarios can help target potential customers accurately and save on marketing expenses.**"
   ]
  },
  {
   "cell_type": "code",
   "execution_count": null,
   "id": "d88d62d4-a291-4f7e-a279-d7f5eec00868",
   "metadata": {},
   "outputs": [],
   "source": []
  }
 ],
 "metadata": {
  "kernelspec": {
   "display_name": "Python 3 (ipykernel)",
   "language": "python",
   "name": "python3"
  },
  "language_info": {
   "codemirror_mode": {
    "name": "ipython",
    "version": 3
   },
   "file_extension": ".py",
   "mimetype": "text/x-python",
   "name": "python",
   "nbconvert_exporter": "python",
   "pygments_lexer": "ipython3",
   "version": "3.11.5"
  }
 },
 "nbformat": 4,
 "nbformat_minor": 5
}
